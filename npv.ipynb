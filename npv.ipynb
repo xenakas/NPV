{
 "cells": [
  {
   "cell_type": "code",
   "execution_count": 2,
   "metadata": {},
   "outputs": [
    {
     "name": "stdout",
     "output_type": "stream",
     "text": [
      "NPV of project= 1849477.0\n"
     ]
    }
   ],
   "source": [
    "import scipy as sp \n",
    "nYear=5                 # number of years\n",
    "costEquipment= 5e6      # 5 million \n",
    "n=nYear+1               # add year zero\n",
    "price=28                # price of the product \n",
    "units=100000            # estimate number of units sold\n",
    "otherCost=100000        # other costs \n",
    "sellingCost=1500        # selling and administration cost \n",
    "R_and_D=200000          # Research and development \n",
    "costRawMaterials=0.3    # percentage cost of raw materials\n",
    "R=0.15                  # discount rate \n",
    "tax=0.38                # corporate tax rate \n",
    "#\n",
    "sales=sp.ones(n)*price*units \n",
    "sales[0]=0   # sales for 1st year is zero \n",
    "cost1=costRawMaterials*sales \n",
    "cost2=sp.ones(n)*otherCost \n",
    "cost3=sp.ones(n)*sellingCost \n",
    "cost4=sp.zeros(n) \n",
    "cost4[0]=costEquipment\n",
    "RD=sp.zeros(n) \n",
    "RD[0]=R_and_D                # assume R&D at time zero \n",
    "D=sp.ones(n)*costEquipment/nYear  # straight line depreciation \n",
    "D[0]=0                            # no depreciation at time 0 \n",
    "EBIT=sales-cost1-cost2-cost3-cost4-RD-D \n",
    "NI=EBIT*(1-tax) \n",
    "FCF=NI+D          # add back depreciation \n",
    "npvProject=sp.npv(R,FCF)         # estimate NPV \n",
    "npvProject = round(npvProject,0)\n",
    "print(\"NPV of project=\", npvProject) "
   ]
  },
  {
   "cell_type": "code",
   "execution_count": 3,
   "metadata": {},
   "outputs": [],
   "source": [
    "import scipy as sp \n",
    "import matplotlib.pyplot as plt \n",
    "nYear=5      # number of years \n",
    "costEquipment=5e6       # 5 million \n",
    "n=nYear+1               # add year zero \n",
    "otherCost=100000        # other costs \n",
    "sellingCost=1500        # selling and administration cost \n",
    "\n"
   ]
  },
  {
   "cell_type": "code",
   "execution_count": 9,
   "metadata": {},
   "outputs": [
    {
     "name": "stdout",
     "output_type": "stream",
     "text": [
      "mean NPV of project= 1.0\n",
      "min  NPV of project= -2.0\n",
      "max  NPV of project= 5.0\n"
     ]
    },
    {
     "data": {
      "image/png": "[encoded data removed]",
      "text/plain": [
       "<Figure size 432x288 with 1 Axes>"
      ]
     },
     "metadata": {
      "needs_background": "light"
     },
     "output_type": "display_data"
    }
   ],
   "source": [
    "R_and_D=200000    # Research and development\n",
    "costRawMaterials=0.3    # percentage cost of raw materials\n",
    "tax=0.38                # corporate tax rate \n",
    "thousand=1e3            # unit of thousand \n",
    "million=1e6             # unit of million \n",
    "# \n",
    "# three uncertainties: price, unit and discount rate \n",
    "nSimulation=100         # number of simulation\n",
    "lowPrice=10             # low price\n",
    "highPrice=30            # high price\n",
    "lowUnit=50*thousand     # low units expected to sell \n",
    "highUnit=200*thousand   # high units expected to sell\n",
    "lowRate=0.15            # lower discount rate\n",
    "highRate=0.25           # high discount rate\n",
    "#\n",
    "n2=nSimulation \n",
    "sp.random.seed(123)\n",
    "price0=sp.random.uniform(low=lowPrice,high=highPrice,size=n2) \n",
    "units0=sp.random.uniform(low=lowUnit,high=highUnit,size=n2)\n",
    "R0=sp.random.uniform(lowRate,highRate,size=n2) \n",
    "#\n",
    "npv=[]\n",
    "for i in sp.arange(nSimulation):\n",
    "    units=sp.ones(n)*units0[i]\n",
    "    price=price0[i]\n",
    "    R=R0[i]\n",
    "    sales=units*price\n",
    "    sales[0]=0    # sales for 1st year is zero\n",
    "    cost1=costRawMaterials*sales\n",
    "    cost2=sp.ones(n)*otherCost\n",
    "    cost3=sp.ones(n)*sellingCost\n",
    "    cost4=sp.zeros(n)\n",
    "    cost4[0]=costEquipment\n",
    "    RD=sp.zeros(n)\n",
    "    RD[0]=R_and_D                     # assume R&D at time zero\n",
    "    D=sp.ones(n)*costEquipment/nYear  # straight line depreciation\n",
    "    D[0]=0                            # no depreciation at time 0\n",
    "    EBIT=sales-cost1-cost2-cost3-cost4-RD-D \n",
    "    NI=EBIT*(1-tax)\n",
    "    FCF=NI+D                          # add back depreciation\n",
    "    npvProject=sp.npv(R,FCF)/million  # estimate NPV\n",
    "    npv.append(npvProject)\n",
    "print(\"mean NPV of project=\",round(sp.mean(npv),0))\n",
    "print(\"min  NPV of project=\",round(min(npv),0))\n",
    "print(\"max  NPV of project=\",round(max(npv),0))\n",
    "plt.title(\"NPV of the project: 3 uncertainties\")\n",
    "plt.xlabel(\"NPV (in million)\") \n",
    "plt.hist(npv, 50, range=[-3, 6], facecolor='blue', align='mid') \n",
    "plt.show()"
   ]
  },
  {
   "cell_type": "code",
   "execution_count": 21,
   "metadata": {},
   "outputs": [
    {
     "data": {
      "image/png": "[encoded data removed]",
      "text/plain": [
       "<Figure size 432x288 with 1 Axes>"
      ]
     },
     "metadata": {
      "needs_background": "light"
     },
     "output_type": "display_data"
    }
   ],
   "source": [
    "import matplotlib.pyplot as plt\n",
    "plt.boxplot(npv, whis=[1, 99], notch=True, widths=0.3)\n",
    "\n",
    "plt.show()"
   ]
  },
  {
   "cell_type": "code",
   "execution_count": 16,
   "metadata": {},
   "outputs": [
    {
     "ename": "AttributeError",
     "evalue": "'tuple' object has no attribute 'boxplot'",
     "output_type": "error",
     "traceback": [
      "\u001b[1;31m---------------------------------------------------------------------------\u001b[0m",
      "\u001b[1;31mAttributeError\u001b[0m                            Traceback (most recent call last)",
      "\u001b[1;32m<ipython-input-16-04727687cb22>\u001b[0m in \u001b[0;36m<module>\u001b[1;34m()\u001b[0m\n\u001b[0;32m      1\u001b[0m \u001b[1;32mimport\u001b[0m \u001b[0mmatplotlib\u001b[0m\u001b[1;33m.\u001b[0m\u001b[0mpyplot\u001b[0m \u001b[1;32mas\u001b[0m \u001b[0mplt\u001b[0m\u001b[1;33m\u001b[0m\u001b[0m\n\u001b[0;32m      2\u001b[0m \u001b[0max1\u001b[0m \u001b[1;33m=\u001b[0m \u001b[0mplt\u001b[0m\u001b[1;33m.\u001b[0m\u001b[0msubplots\u001b[0m\u001b[1;33m(\u001b[0m\u001b[1;33m)\u001b[0m\u001b[1;33m\u001b[0m\u001b[0m\n\u001b[1;32m----> 3\u001b[1;33m \u001b[0max1\u001b[0m\u001b[1;33m.\u001b[0m\u001b[0mboxplot\u001b[0m\u001b[1;33m(\u001b[0m\u001b[0mnpv\u001b[0m\u001b[1;33m)\u001b[0m\u001b[1;33m\u001b[0m\u001b[0m\n\u001b[0m",
      "\u001b[1;31mAttributeError\u001b[0m: 'tuple' object has no attribute 'boxplot'"
     ]
    },
    {
     "data": {
      "image/png": "[encoded data removed]",
      "text/plain": [
       "<Figure size 432x288 with 1 Axes>"
      ]
     },
     "metadata": {
      "needs_background": "light"
     },
     "output_type": "display_data"
    }
   ],
   "source": []
  },
  {
   "cell_type": "code",
   "execution_count": 19,
   "metadata": {},
   "outputs": [
    {
     "data": {
      "text/plain": [
       "{'whiskers': [<matplotlib.lines.Line2D at 0x24b65dcbc18>,\n",
       "  <matplotlib.lines.Line2D at 0x24b65dd5470>],\n",
       " 'caps': [<matplotlib.lines.Line2D at 0x24b65dd5898>,\n",
       "  <matplotlib.lines.Line2D at 0x24b65dd5cc0>],\n",
       " 'boxes': [<matplotlib.lines.Line2D at 0x24b65dcbac8>],\n",
       " 'medians': [<matplotlib.lines.Line2D at 0x24b65dd5da0>],\n",
       " 'fliers': [<matplotlib.lines.Line2D at 0x24b65ddd550>],\n",
       " 'means': []}"
      ]
     },
     "execution_count": 19,
     "metadata": {},
     "output_type": "execute_result"
    },
    {
     "data": {
      "image/png": "[encoded data removed]",
      "text/plain": [
       "<Figure size 432x288 with 1 Axes>"
      ]
     },
     "metadata": {
      "needs_background": "light"
     },
     "output_type": "display_data"
    }
   ],
   "source": [
    "import numpy as np\n",
    "import matplotlib.pyplot as plt\n",
    "# fake up some data\n",
    "spread = np.random.rand(50) * 100\n",
    "center = np.ones(25) * 50\n",
    "flier_high = np.random.rand(10) * 100 + 100\n",
    "flier_low = np.random.rand(10) * -100\n",
    "data = np.concatenate((spread, center, flier_high, flier_low))\n",
    "fig1, ax1 = plt.subplots()\n",
    "ax1.set_title('Basic Plot')\n",
    "ax1.boxplot(data)"
   ]
  },
  {
   "cell_type": "code",
   "execution_count": null,
   "metadata": {},
   "outputs": [],
   "source": []
  }
 ],
 "metadata": {
  "kernelspec": {
   "display_name": "Python 3",
   "language": "python",
   "name": "python3"
  },
  "language_info": {
   "codemirror_mode": {
    "name": "ipython",
    "version": 3
   },
   "file_extension": ".py",
   "mimetype": "text/x-python",
   "name": "python",
   "nbconvert_exporter": "python",
   "pygments_lexer": "ipython3",
   "version": "3.7.0"
  }
 },
 "nbformat": 4,
 "nbformat_minor": 2
}
