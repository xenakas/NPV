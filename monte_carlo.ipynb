{
 "cells": [
  {
   "cell_type": "markdown",
   "metadata": {},
   "source": [
    "#  Считаем NPV и IRR методом Монте-Карло"
   ]
  },
  {
   "cell_type": "code",
   "execution_count": 2,
   "metadata": {},
   "outputs": [],
   "source": [
    "import numpy as np\n",
    "import numpy.random as npr\n",
    "import timeit\n",
    "\n",
    "npr.seed(69)\n"
   ]
  },
  {
   "cell_type": "markdown",
   "metadata": {},
   "source": [
    "### Подсчет обычным методом "
   ]
  },
  {
   "cell_type": "code",
   "execution_count": 5,
   "metadata": {},
   "outputs": [
    {
     "name": "stdout",
     "output_type": "stream",
     "text": [
      "344796.1010518393\n",
      "0.15331410149124514\n"
     ]
    }
   ],
   "source": [
    "price = np.array([6, 6.05, 6.1])\n",
    "volume = np.array([802000, 967000, 1132000])\n",
    "cost_coef = 0.55\n",
    "oper_coef = 0.15\n",
    "\n",
    "cash_flow = ( 1 -  cost_coef ) * (1 - oper_coef ) * ( 1 - 0.32) * price * volume   \n",
    "cash_flow = np.append(-3400000, cash_flow )\n",
    "npv = np.npv(0.1,cash_flow)\n",
    "irr = np.irr(cash_flow)\n",
    "\n",
    "print(npv)\n",
    "print(irr)"
   ]
  },
  {
   "cell_type": "markdown",
   "metadata": {},
   "source": [
    "### (а) С циклом"
   ]
  },
  {
   "cell_type": "code",
   "execution_count": 4,
   "metadata": {},
   "outputs": [
    {
     "name": "stdout",
     "output_type": "stream",
     "text": [
      "Среднее NPV: 211073.82845253867\n",
      "Среднее IRR: 0.1316342623578176\n"
     ]
    }
   ],
   "source": [
    "def npv_mc(y, numb_iter):\n",
    "    \n",
    "    npv_all = []\n",
    "    irr_all = [] \n",
    "        \n",
    "    \n",
    "    for i in np.arange(numb_iter):    \n",
    "        \n",
    "        price = npr.triangular([5.9,5.95,6], [6,6.05,6.1],  [6.1,6.15,6.2] , 3)\n",
    "        volume = npr.normal([802,967,1132], [25,30,25], 3) * 1000\n",
    "        cost_coef = npr.triangular(0.5, 0.55, 0.65) \n",
    "        oper_coef = npr.normal(0.15, 0.02) \n",
    "        \n",
    "        cash_flow = ( 1 - cost_coef ) * (1 - oper_coef ) * ( 1 - 0.32) * price * volume   \n",
    "        cash_flow = np.append(-3400000, cash_flow )  \n",
    "        \n",
    "        npv_all = np.append(npv_all, np.npv(0.1,cash_flow))\n",
    "        irr_all = np.append(irr_all, np.irr(cash_flow))\n",
    "    \n",
    "    if y == 1:\n",
    "        return npv_all\n",
    "    else:\n",
    "        return irr_all\n",
    "\n",
    "npv_all1 = npv_mc(1, 10000)\n",
    "irr_all1 = npv_mc(2, 10000)\n",
    "        \n",
    "print('Среднее NPV:', np.mean(npv_all1))\n",
    "print('Среднее IRR:', np.mean(irr_all1))"
   ]
  },
  {
   "cell_type": "markdown",
   "metadata": {},
   "source": [
    "### Графики"
   ]
  },
  {
   "cell_type": "code",
   "execution_count": null,
   "metadata": {},
   "outputs": [],
   "source": [
    "import matplotlib.pyplot as plt \n",
    "\n",
    "plt.hist(npv_all1, bins= 30, align='mid', histtype='bar', facecolor='green') \n",
    "plt.title('Net present value') \n",
    "plt.axvline(x=np.mean(npv_all1),linestyle='dashed',color='blue') \n",
    "plt.axvline(x=np.percentile(npv_all1, 10),linestyle='dashed',color='orange') \n",
    "plt.axvline(x=np.percentile(npv_all1, 50),linestyle='dashed',color='orange') \n",
    "plt.axvline(x=np.percentile(npv_all1, 90),linestyle='dashed',color='orange') \n",
    "plt.show()\n",
    "\n",
    "\n",
    "plt.boxplot(npv_all1, whis=[1, 99],  widths=0.2)\n",
    "plt.title('Net present value') \n",
    "plt.show()\n",
    "\n",
    "\n",
    "plt.hist(irr_all1, bins=30, align='mid',histtype='bar', facecolor='yellow') \n",
    "plt.title('Internal rate of return') \n",
    "plt.axvline(x=np.mean(irr_all1),linestyle='dashed',color='blue') \n",
    "plt.axvline(x=np.percentile(irr_all1, 10),linestyle='dashed',color='orange') \n",
    "plt.axvline(x=np.percentile(irr_all1, 50),linestyle='dashed',color='orange') \n",
    "plt.axvline(x=np.percentile(irr_all1, 90),linestyle='dashed',color='orange') \n",
    "plt.show()\n",
    "\n",
    "plt.boxplot(irr_all1, whis=[1, 99],  widths=0.2)\n",
    "plt.title('Internal rate of return') \n",
    "plt.show()"
   ]
  },
  {
   "cell_type": "markdown",
   "metadata": {},
   "source": [
    "### (б) С вложенным циклом "
   ]
  },
  {
   "cell_type": "code",
   "execution_count": 10,
   "metadata": {},
   "outputs": [
    {
     "name": "stdout",
     "output_type": "stream",
     "text": [
      "Среднее NPV: 203202.45559004552\n",
      "Среднее IRR: 0.1311681714067047\n"
     ]
    }
   ],
   "source": [
    "def npv_mc_no(y, numb_iter):\n",
    "   \n",
    "    npv_all = []\n",
    "    irr_all = [] \n",
    "    \n",
    "    price1 = np.random.triangular(5.9, 6, 6.1, numb_iter)\n",
    "    price2 = np.random.triangular(5.95, 6.05, 6.15, numb_iter)\n",
    "    price3 = np.random.triangular(6, 6.1, 6.2, numb_iter) \n",
    "    \n",
    "    volume1 = np.random.normal(802, 25, numb_iter) * 1000\n",
    "    volume2 = np.random.normal(967, 30, numb_iter) * 1000\n",
    "    volume3 = np.random.normal(1132, 25, numb_iter) * 1000\n",
    "        \n",
    "    cost_coef = npr.triangular(0.5, 0.55, 0.65,numb_iter) \n",
    "    oper_coef = npr.normal(0.15, 0.02,numb_iter) \n",
    "    \n",
    "    npv_all = np.array( [ np.npv(0.1, np.append(-3400000, ( 1 - 0.32)*(1 - oper_coef[i])*(1 - cost_coef[i])*np.array([price1[i]*volume1[i], price2[i]*volume2[i], price3[i]*volume3[i]])))  for i in np.arange(numb_iter) ])\n",
    "    irr_all = np.array( [ np.irr(np.append(-3400000, ( 1 - 0.32)*(1 - oper_coef[i])*(1 - cost_coef[i])*np.array([price1[i]*volume1[i], price2[i]*volume2[i], price3[i]*volume3[i]])))  for i in np.arange(numb_iter) ] )  \n",
    "\n",
    "    if y == 1:\n",
    "        return npv_all\n",
    "    else:\n",
    "        return irr_all\n",
    "    \n",
    "    \n",
    "    \n",
    "npv_all2 = npv_mc_no(1, 10000)\n",
    "irr_all2 = npv_mc_no(2, 10000)\n",
    "        \n",
    "print('Среднее NPV:', np.mean(npv_all2))\n",
    "print('Среднее IRR:', np.mean(irr_all2))\n",
    "        "
   ]
  },
  {
   "cell_type": "markdown",
   "metadata": {},
   "source": [
    "### (в) С циклом и с вложенным циклом"
   ]
  },
  {
   "cell_type": "code",
   "execution_count": 13,
   "metadata": {},
   "outputs": [
    {
     "name": "stdout",
     "output_type": "stream",
     "text": [
      "Среднее NPV: 204805.27135887084\n",
      "Среднее IRR: 0.13129772956073174\n"
     ]
    }
   ],
   "source": [
    "def npv_mc_no_no(y, numb_iter):\n",
    "    \n",
    "    npv_all = []\n",
    "    irr_all = [] \n",
    "    profit = []\n",
    "    \n",
    "    for i in np.arange(numb_iter):\n",
    "        profit.append(npr.triangular([5.9,5.95,6], [6,6.05,6.1],  [6.1,6.15,6.2] , 3)  * npr.normal([802,967,1132], [25,30,25], 3) * 1000)      \n",
    "    \n",
    "    cost_coef = npr.triangular(0.5, 0.55, 0.65,numb_iter) \n",
    "    oper_coef = npr.normal(0.15, 0.02,numb_iter) \n",
    "    \n",
    "    npv_all = np.array([ np.npv(0.1, np.append(-3400000, ( 1 - 0.32)*(1 - oper_coef[i])*(1 - cost_coef[i]) * profit[i] ))  for i in np.arange(numb_iter)  ])\n",
    "    irr_all = np.array([  np.irr(np.append(-3400000, ( 1 - 0.32)*(1 - oper_coef[i])*(1 - cost_coef[i])* profit[i] ))  for i in np.arange(numb_iter)])  \n",
    "    \n",
    "    if y == 1:\n",
    "        return npv_all\n",
    "    else:\n",
    "        return irr_all\n",
    "\n",
    "npv_all3 = npv_mc_no_no(1, 10000)\n",
    "irr_all3 = npv_mc_no_no(2, 10000)   \n",
    "\n",
    "print('Среднее NPV:', np.mean(npv_all3))\n",
    "print('Среднее IRR:', np.mean(irr_all3))\n",
    "        "
   ]
  },
  {
   "cell_type": "markdown",
   "metadata": {},
   "source": [
    "## Timing"
   ]
  },
  {
   "cell_type": "code",
   "execution_count": 14,
   "metadata": {},
   "outputs": [
    {
     "name": "stdout",
     "output_type": "stream",
     "text": [
      "Время: 16.052938254000765\n",
      "Время: 8.992007501001353\n",
      "Время: 11.486441868000838\n"
     ]
    }
   ],
   "source": [
    "def wrapper(func, args, kwargs):\n",
    "    def wrapped():\n",
    "        return func(args, kwargs)\n",
    "    return wrapped\n",
    "\n",
    "wrapped1 = wrapper(npv_mc, 1, 45000)\n",
    "\n",
    "print('Время:', timeit.timeit(wrapped1, number=1))    \n",
    "\n",
    "\n",
    "wrapped2 = wrapper(npv_mc_no, 1, 45000)\n",
    "\n",
    "print('Время:', timeit.timeit(wrapped2, number=1))    \n",
    "\n",
    "\n",
    "\n",
    "wrapped3 = wrapper(npv_mc_no_no, 1, 45000)\n",
    "\n",
    "print('Время:', timeit.timeit(wrapped3, number=1))    \n"
   ]
  }
 ],
 "metadata": {
  "kernelspec": {
   "display_name": "Python 3",
   "language": "python",
   "name": "python3"
  },
  "language_info": {
   "codemirror_mode": {
    "name": "ipython",
    "version": 3
   },
   "file_extension": ".py",
   "mimetype": "text/x-python",
   "name": "python",
   "nbconvert_exporter": "python",
   "pygments_lexer": "ipython3",
   "version": "3.6.4"
  }
 },
 "nbformat": 4,
 "nbformat_minor": 2
}
